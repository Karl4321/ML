{
  "nbformat": 4,
  "nbformat_minor": 0,
  "metadata": {
    "colab": {
      "provenance": []
    },
    "kernelspec": {
      "name": "python3",
      "display_name": "Python 3"
    },
    "language_info": {
      "name": "python"
    }
  },
  "cells": [
    {
      "cell_type": "code",
      "execution_count": null,
      "metadata": {
        "id": "EPEzP_5t5JtA"
      },
      "outputs": [],
      "source": [
        "import warnings\n",
        "import itertools\n",
        "import pandas as pd\n",
        "import numpy as np\n",
        "import matplotlib.pyplot as plt\n",
        "%matplotlib inline\n",
        "import statsmodels.api as sm\n",
        "from statsmodels.tsa.statespace.sarimax import SARIMAX\n",
        "from sklearn.metrics import mean_absolute_percentage_error"
      ]
    },
    {
      "cell_type": "code",
      "source": [
        "data = pd.read_csv('input.csv')\n",
        "forecast_dict = {}\n",
        "all_forecasts = pd.DataFrame()\n",
        "\n",
        "warnings.filterwarnings(\"ignore\")\n",
        "error_metrics = {}"
      ],
      "metadata": {
        "id": "zXsgjgL46fF0"
      },
      "execution_count": null,
      "outputs": []
    },
    {
      "cell_type": "code",
      "source": [
        "plt.subplot(20,10,10)"
      ],
      "metadata": {
        "colab": {
          "base_uri": "https://localhost:8080/",
          "height": 98
        },
        "id": "aM6XXhZbo0Nj",
        "outputId": "632308af-6d4c-4e3e-9bd6-417e9938dca6"
      },
      "execution_count": null,
      "outputs": [
        {
          "output_type": "execute_result",
          "data": {
            "text/plain": [
              "<Axes: >"
            ]
          },
          "metadata": {},
          "execution_count": 22
        },
        {
          "output_type": "display_data",
          "data": {
            "text/plain": [
              "<Figure size 640x480 with 1 Axes>"
            ],
            "image/png": "[encoded data removed]"
          },
          "metadata": {}
        }
      ]
    },
    {
      "cell_type": "code",
      "source": [
        "for currency in data.columns[1:]:\n",
        "    df_currency = data[['Date', currency]].copy()\n",
        "    df_currency['Date'] = pd.to_datetime(df_currency['Date'])\n",
        "    df_currency.set_index('Date', inplace=True)\n",
        "    df_currency = df_currency.asfreq('D')\n",
        "\n",
        "    train_data = df_currency[:-20]\n",
        "    test_data = df_currency[-20:]\n",
        "\n",
        "    model = SARIMAX(train_data, order=(4, 1, 3), seasonal_order=(2, 1, 1, 5))\n",
        "    model_fit = model.fit()\n",
        "\n",
        "    forecast_steps = 20\n",
        "    forecast = model_fit.forecast(steps=forecast_steps)\n",
        "    forecast_dates = pd.date_range(start='2016-10-03', periods=forecast_steps, freq='D')\n",
        "    forecast_df = pd.DataFrame({'Date': forecast_dates, currency: forecast})\n",
        "    plt.plot(forecast_dates,forecast)\n",
        "    forecast_dict[currency] = forecast_df\n",
        "\n",
        "    if all_forecasts.empty:\n",
        "        all_forecasts = forecast_df\n",
        "    else:\n",
        "        all_forecasts = all_forecasts.merge(forecast_df, on='Date')\n",
        "    if len(test_data) >= forecast_steps:\n",
        "        test_data = test_data.head(forecast_steps)  # Убедиться, что тестовые данные такой же длины, как прогноз\n",
        "        mape = mean_absolute_percentage_error(test_data[currency], forecast)\n",
        "        error_metrics[currency] = {'MAPE': mape}\n",
        "    else:\n",
        "        print(f\"Not enough test data for {currency} to calculate MAPE.\")"
      ],
      "metadata": {
        "id": "9vDbQ36-4FVQ",
        "colab": {
          "base_uri": "https://localhost:8080/",
          "height": 430
        },
        "outputId": "602d1b42-565e-4bf3-a151-41ee5b35014c"
      },
      "execution_count": null,
      "outputs": [
        {
          "output_type": "display_data",
          "data": {
            "text/plain": [
              "<Figure size 640x480 with 1 Axes>"
            ],
            "image/png": "[encoded data removed]"
          },
          "metadata": {}
        }
      ]
    },
    {
      "cell_type": "code",
      "source": [
        "for currency, metrics in error_metrics.items():\n",
        "    print(f\"{currency} - MAPE: {metrics['MAPE'] * 100:.2f}%\")"
      ],
      "metadata": {
        "colab": {
          "base_uri": "https://localhost:8080/"
        },
        "id": "2zXcf_bV86hm",
        "outputId": "70fe361d-7624-4e69-ac45-a3c0ca3d5513"
      },
      "execution_count": null,
      "outputs": [
        {
          "output_type": "stream",
          "name": "stdout",
          "text": [
            "Australia - MAPE: 1.38%\n",
            "Brazil - MAPE: 0.69%\n",
            "Canada - MAPE: 0.56%\n",
            "China - MAPE: 0.21%\n",
            "Denmark - MAPE: 0.32%\n",
            "Euro - MAPE: 0.26%\n",
            "Hong Kong - MAPE: 0.04%\n",
            "India - MAPE: 0.36%\n",
            "Japan - MAPE: 0.79%\n",
            "Malaysia - MAPE: 1.37%\n",
            "Mexico - MAPE: 2.55%\n",
            "New Zealand - MAPE: 0.84%\n",
            "Norway - MAPE: 1.46%\n",
            "Singapore - MAPE: 0.37%\n",
            "South Africa - MAPE: 3.80%\n",
            "South Korea - MAPE: 1.00%\n",
            "Sweden - MAPE: 0.61%\n",
            "Switzerland - MAPE: 0.40%\n",
            "Taiwan - MAPE: 0.81%\n",
            "Thailand - MAPE: 0.55%\n",
            "United Kingdom - MAPE: 1.59%\n"
          ]
        }
      ]
    },
    {
      "cell_type": "code",
      "source": [
        "output_file_path = 'output.csv'\n",
        "all_forecasts.to_csv(output_file_path, index=False)"
      ],
      "metadata": {
        "id": "lNgG0DD-5mH2"
      },
      "execution_count": null,
      "outputs": []
    }
  ]
}